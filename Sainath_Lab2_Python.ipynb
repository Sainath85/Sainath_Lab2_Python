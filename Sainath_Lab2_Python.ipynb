{
 "cells": [
  {
   "cell_type": "markdown",
   "id": "1bd3906b",
   "metadata": {
    "id": "1bd3906b"
   },
   "source": [
    "## Lab Session Sample Solution"
   ]
  },
  {
   "cell_type": "markdown",
   "id": "ccfb2855",
   "metadata": {
    "id": "ccfb2855"
   },
   "source": [
    "### Learning Objective:\n",
    "- Working with data using python libaries.\n",
    "- Data Visualization.\n",
    "- Exploratory data analysis and data preprocessing.\n",
    "- Building a Linear regression model to predict the tip amount based on different input features."
   ]
  },
  {
   "cell_type": "markdown",
   "id": "61ef0de3",
   "metadata": {
    "id": "61ef0de3"
   },
   "source": [
    "### About the dataset (Customer Tip Data)\n",
    "\n",
    "#### Dataset Source: https://www.kaggle.com/datasets/ranjeetjain3/seaborn-tips-dataset\n",
    "\n",
    "The dataset contains information about the 244 orders served at a restaurant in the United States. Each observation includes the factors related to the order like total bill, time, the total number of people in a group, gender of the person paying for the order and so on.\n",
    "\n",
    "#### Attribute Information:\n",
    "\n",
    "- **total_bill:** Total bill (cost of the meal), including tax, in US dollars\n",
    "- **tip:** Tip in US dollars\n",
    "- **sex:** Sex of person paying for the meal\n",
    "- **smoker:** There is a smoker in a group or not\n",
    "- **day:** Day on which the order is served\n",
    "- **time:** Time of the order\n",
    "- **size:** Size of the group\n",
    "\n",
    "Food servers’ tips in restaurants may be influenced by many factors, including the nature of the restaurant, size of the party, and table locations in the restaurant. Restaurant managers need to know which factors matter when they assign tables to food servers. For the sake of staff morale, they usually want to avoid either the substance or the appearance of unfair\n",
    "treatment of the servers, for whom tips (at least in restaurants in the UnitedStates) are a major component of pay."
   ]
  },
  {
   "cell_type": "markdown",
   "id": "e4e44e06",
   "metadata": {
    "id": "e4e44e06"
   },
   "source": [
    "### Import required libraries"
   ]
  },
  {
   "cell_type": "code",
   "execution_count": null,
   "id": "0c2ee538",
   "metadata": {
    "executionInfo": {
     "elapsed": 1129,
     "status": "ok",
     "timestamp": 1655791310708,
     "user": {
      "displayName": "Vikas HM",
      "userId": "18207387345907596827"
     },
     "user_tz": -330
    },
    "id": "0c2ee538"
   },
   "outputs": [],
   "source": [
    "import pandas as pd\n",
    "import numpy as np\n",
    "import seaborn as sns\n",
    "import matplotlib.pyplot as plt\n",
    "import warnings\n",
    "warnings.filterwarnings('ignore')\n",
    "\n",
    "import sklearn\n",
    "from sklearn.preprocessing import StandardScaler,LabelEncoder, MinMaxScaler\n",
    "from sklearn.model_selection import train_test_split\n",
    "from sklearn.linear_model import LinearRegression \n",
    "from sklearn.metrics import r2_score"
   ]
  },
  {
   "cell_type": "markdown",
   "id": "9ead3dea",
   "metadata": {
    "id": "9ead3dea"
   },
   "source": [
    "### Load the dataset"
   ]
  },
  {
   "cell_type": "code",
   "execution_count": null,
   "id": "Rcy4ibknI9e4",
   "metadata": {
    "colab": {
     "base_uri": "https://localhost:8080/",
     "height": 206
    },
    "executionInfo": {
     "elapsed": 1252,
     "status": "ok",
     "timestamp": 1655729202326,
     "user": {
      "displayName": "Vikas HM",
      "userId": "18207387345907596827"
     },
     "user_tz": -330
    },
    "id": "Rcy4ibknI9e4",
    "outputId": "7eaea79b-840c-4112-b08f-db23b0a794c7"
   },
   "outputs": [],
   "source": [
    "df = pd.read_csv('tips.csv')\n",
    "df.head()"
   ]
  },
  {
   "cell_type": "markdown",
   "id": "42cd8e14",
   "metadata": {
    "id": "42cd8e14"
   },
   "source": [
    "### 1. Make a list of categorical and numerical columns in the data."
   ]
  },
  {
   "cell_type": "code",
   "execution_count": null,
   "id": "60081d08",
   "metadata": {
    "colab": {
     "base_uri": "https://localhost:8080/"
    },
    "executionInfo": {
     "elapsed": 515,
     "status": "ok",
     "timestamp": 1655729226153,
     "user": {
      "displayName": "Vikas HM",
      "userId": "18207387345907596827"
     },
     "user_tz": -330
    },
    "id": "60081d08",
    "outputId": "76e6f847-0c40-496c-f8b2-9b2a6b3b77ff"
   },
   "outputs": [],
   "source": [
    "cat = []\n",
    "num = []\n",
    "for i in df.columns:\n",
    "    if df[i].dtypes=='object':\n",
    "        cat.append(i)\n",
    "    else:\n",
    "        num.append(i)      \n",
    "print('The categorical variables are:\\n',cat,'\\n')\n",
    "print('The numerical variables are:\\n',num)"
   ]
  },
  {
   "cell_type": "markdown",
   "id": "41ef8841",
   "metadata": {
    "id": "41ef8841"
   },
   "source": [
    "### 2. Compute the average bill amount for each day."
   ]
  },
  {
   "cell_type": "code",
   "execution_count": null,
   "id": "77f1faf7",
   "metadata": {
    "colab": {
     "base_uri": "https://localhost:8080/"
    },
    "executionInfo": {
     "elapsed": 516,
     "status": "ok",
     "timestamp": 1655729231919,
     "user": {
      "displayName": "Vikas HM",
      "userId": "18207387345907596827"
     },
     "user_tz": -330
    },
    "id": "77f1faf7",
    "outputId": "ee82f026-250c-4630-ba77-e3b13aeda400"
   },
   "outputs": [],
   "source": [
    "df.groupby('day')['total_bill'].mean()"
   ]
  },
  {
   "cell_type": "markdown",
   "id": "18894954",
   "metadata": {
    "id": "18894954"
   },
   "source": [
    "### 3. Which gender is more generous in giving tips?"
   ]
  },
  {
   "cell_type": "code",
   "execution_count": null,
   "id": "95499211",
   "metadata": {
    "colab": {
     "base_uri": "https://localhost:8080/"
    },
    "executionInfo": {
     "elapsed": 3,
     "status": "ok",
     "timestamp": 1655729235990,
     "user": {
      "displayName": "Vikas HM",
      "userId": "18207387345907596827"
     },
     "user_tz": -330
    },
    "id": "95499211",
    "outputId": "2bdbb5f7-fc0e-4107-d278-08fcf633a77b"
   },
   "outputs": [],
   "source": [
    "df.groupby('sex')['tip'].mean()"
   ]
  },
  {
   "cell_type": "markdown",
   "id": "984e3dbf",
   "metadata": {
    "id": "984e3dbf"
   },
   "source": [
    "### 4. According to the data, were there more customers for dinner or lunch?"
   ]
  },
  {
   "cell_type": "code",
   "execution_count": null,
   "id": "b26d8247",
   "metadata": {
    "colab": {
     "base_uri": "https://localhost:8080/"
    },
    "executionInfo": {
     "elapsed": 639,
     "status": "ok",
     "timestamp": 1655729240418,
     "user": {
      "displayName": "Vikas HM",
      "userId": "18207387345907596827"
     },
     "user_tz": -330
    },
    "id": "b26d8247",
    "outputId": "8f33e049-c840-417b-af82-7803a536e211"
   },
   "outputs": [],
   "source": [
    "df.groupby('time')['size'].count()"
   ]
  },
  {
   "cell_type": "markdown",
   "id": "6cd773f0",
   "metadata": {
    "id": "6cd773f0"
   },
   "source": [
    "### 5. Based on the statistical summary, comment on the variable 'tip'"
   ]
  },
  {
   "cell_type": "code",
   "execution_count": null,
   "id": "cf0c19ac",
   "metadata": {
    "colab": {
     "base_uri": "https://localhost:8080/"
    },
    "executionInfo": {
     "elapsed": 512,
     "status": "ok",
     "timestamp": 1655729247071,
     "user": {
      "displayName": "Vikas HM",
      "userId": "18207387345907596827"
     },
     "user_tz": -330
    },
    "id": "cf0c19ac",
    "outputId": "5ed36f62-3821-4cd6-c965-e968e3dbb323"
   },
   "outputs": [],
   "source": [
    "df['tip'].describe()"
   ]
  },
  {
   "cell_type": "markdown",
   "id": "d9c31198",
   "metadata": {
    "id": "d9c31198"
   },
   "source": [
    "### 6. Find the busiest day in terms of the orders?"
   ]
  },
  {
   "cell_type": "code",
   "execution_count": null,
   "id": "4652c1fb",
   "metadata": {
    "colab": {
     "base_uri": "https://localhost:8080/"
    },
    "executionInfo": {
     "elapsed": 3,
     "status": "ok",
     "timestamp": 1655729251926,
     "user": {
      "displayName": "Vikas HM",
      "userId": "18207387345907596827"
     },
     "user_tz": -330
    },
    "id": "4652c1fb",
    "outputId": "d744d592-279f-45dd-ec6b-76b080fa2a65"
   },
   "outputs": [],
   "source": [
    "df.day.mode()"
   ]
  },
  {
   "cell_type": "markdown",
   "id": "f01ba5cf",
   "metadata": {
    "id": "f01ba5cf"
   },
   "source": [
    "### 7. Is the variable 'total_bill' skewed? If yes, identify the type of skewness. Support your answer with a plot"
   ]
  },
  {
   "cell_type": "code",
   "execution_count": null,
   "id": "628338b4",
   "metadata": {
    "colab": {
     "base_uri": "https://localhost:8080/",
     "height": 282
    },
    "executionInfo": {
     "elapsed": 541,
     "status": "ok",
     "timestamp": 1655729256983,
     "user": {
      "displayName": "Vikas HM",
      "userId": "18207387345907596827"
     },
     "user_tz": -330
    },
    "id": "628338b4",
    "outputId": "13117a0f-20de-4ddd-c653-68a02d3e58d7"
   },
   "outputs": [],
   "source": [
    "sns.distplot(df['total_bill'])\n",
    "plt.show()"
   ]
  },
  {
   "cell_type": "code",
   "execution_count": null,
   "id": "204e9160",
   "metadata": {
    "colab": {
     "base_uri": "https://localhost:8080/"
    },
    "executionInfo": {
     "elapsed": 3,
     "status": "ok",
     "timestamp": 1655729261912,
     "user": {
      "displayName": "Vikas HM",
      "userId": "18207387345907596827"
     },
     "user_tz": -330
    },
    "id": "204e9160",
    "outputId": "e889ef38-25f5-4ad5-f4de-fed143980255"
   },
   "outputs": [],
   "source": [
    "df['total_bill'].skew()"
   ]
  },
  {
   "cell_type": "markdown",
   "id": "0fe8fa86",
   "metadata": {
    "id": "0fe8fa86"
   },
   "source": [
    "### 8. Is the tip amount dependent on the total bill? Visualize the relationship with a appropriate plot and metric and write your findings."
   ]
  },
  {
   "cell_type": "code",
   "execution_count": null,
   "id": "dd6a88a3",
   "metadata": {
    "colab": {
     "base_uri": "https://localhost:8080/",
     "height": 112
    },
    "executionInfo": {
     "elapsed": 632,
     "status": "ok",
     "timestamp": 1655729268253,
     "user": {
      "displayName": "Vikas HM",
      "userId": "18207387345907596827"
     },
     "user_tz": -330
    },
    "id": "dd6a88a3",
    "outputId": "182cd2ae-53cc-4873-eab1-be424c6fe20e"
   },
   "outputs": [],
   "source": [
    "df[['tip','total_bill']].corr()"
   ]
  },
  {
   "cell_type": "code",
   "execution_count": null,
   "id": "fc1d9d38",
   "metadata": {
    "colab": {
     "base_uri": "https://localhost:8080/",
     "height": 280
    },
    "executionInfo": {
     "elapsed": 772,
     "status": "ok",
     "timestamp": 1655729270962,
     "user": {
      "displayName": "Vikas HM",
      "userId": "18207387345907596827"
     },
     "user_tz": -330
    },
    "id": "fc1d9d38",
    "outputId": "ab99962c-f82b-4f4a-9515-e688b4ea2e49"
   },
   "outputs": [],
   "source": [
    "sns.scatterplot(x='total_bill',y='tip',data=df)\n",
    "plt.show()"
   ]
  },
  {
   "cell_type": "markdown",
   "id": "2469e9cc",
   "metadata": {
    "id": "2469e9cc"
   },
   "source": [
    "### 9. What is the percentage of males and females in the dataset? and display it in the plot"
   ]
  },
  {
   "cell_type": "code",
   "execution_count": null,
   "id": "de125623",
   "metadata": {
    "colab": {
     "base_uri": "https://localhost:8080/",
     "height": 248
    },
    "executionInfo": {
     "elapsed": 490,
     "status": "ok",
     "timestamp": 1655729278830,
     "user": {
      "displayName": "Vikas HM",
      "userId": "18207387345907596827"
     },
     "user_tz": -330
    },
    "id": "de125623",
    "outputId": "dcad4ce1-ebd1-4561-f8af-2cbc5eca8301"
   },
   "outputs": [],
   "source": [
    "df['sex'].value_counts(normalize=True).plot(kind='pie',autopct='%.2f%%')\n",
    "plt.show()"
   ]
  },
  {
   "cell_type": "markdown",
   "id": "35e7f9bb",
   "metadata": {
    "id": "35e7f9bb"
   },
   "source": [
    "### 10. Compute the gender-wise count based on smoking habits and display it in the plot"
   ]
  },
  {
   "cell_type": "code",
   "execution_count": null,
   "id": "3f75cd6e",
   "metadata": {
    "colab": {
     "base_uri": "https://localhost:8080/"
    },
    "executionInfo": {
     "elapsed": 453,
     "status": "ok",
     "timestamp": 1655729284475,
     "user": {
      "displayName": "Vikas HM",
      "userId": "18207387345907596827"
     },
     "user_tz": -330
    },
    "id": "3f75cd6e",
    "outputId": "cc9dfd12-503d-4c7c-838c-41fb3d689023"
   },
   "outputs": [],
   "source": [
    "df.groupby('sex')['smoker'].value_counts()"
   ]
  },
  {
   "cell_type": "code",
   "execution_count": null,
   "id": "9bd768a7",
   "metadata": {
    "colab": {
     "base_uri": "https://localhost:8080/",
     "height": 285
    },
    "executionInfo": {
     "elapsed": 544,
     "status": "ok",
     "timestamp": 1655729285607,
     "user": {
      "displayName": "Vikas HM",
      "userId": "18207387345907596827"
     },
     "user_tz": -330
    },
    "id": "9bd768a7",
    "outputId": "c4c85308-a77e-4270-d24e-be53733e843f"
   },
   "outputs": [],
   "source": [
    "pd.crosstab(df['smoker'],df['sex']).plot(kind='bar')\n",
    "plt.show()"
   ]
  },
  {
   "cell_type": "markdown",
   "id": "1f8ba505",
   "metadata": {
    "id": "1f8ba505"
   },
   "source": [
    "### 11. Compute the average tip amount given for different days and display it in the plot."
   ]
  },
  {
   "cell_type": "code",
   "execution_count": null,
   "id": "7c756e9c",
   "metadata": {
    "colab": {
     "base_uri": "https://localhost:8080/"
    },
    "executionInfo": {
     "elapsed": 2,
     "status": "ok",
     "timestamp": 1655729290918,
     "user": {
      "displayName": "Vikas HM",
      "userId": "18207387345907596827"
     },
     "user_tz": -330
    },
    "id": "7c756e9c",
    "outputId": "d95ec57a-f445-4e22-d973-5ba192422d42"
   },
   "outputs": [],
   "source": [
    "df.groupby('day')['tip'].mean()"
   ]
  },
  {
   "cell_type": "code",
   "execution_count": null,
   "id": "ef10574c",
   "metadata": {
    "colab": {
     "base_uri": "https://localhost:8080/",
     "height": 279
    },
    "executionInfo": {
     "elapsed": 552,
     "status": "ok",
     "timestamp": 1655729292167,
     "user": {
      "displayName": "Vikas HM",
      "userId": "18207387345907596827"
     },
     "user_tz": -330
    },
    "id": "ef10574c",
    "outputId": "67957cb2-56c2-423b-bbdb-f4e1cfaa84d8"
   },
   "outputs": [],
   "source": [
    "sns.barplot(x='day',y='tip',data=df)\n",
    "plt.show()"
   ]
  },
  {
   "cell_type": "markdown",
   "id": "873f97a5",
   "metadata": {
    "id": "873f97a5"
   },
   "source": [
    "### 12. Is the average bill amount dependent on the size of the group? Visualize the relationship using appropriate plot and write your findings."
   ]
  },
  {
   "cell_type": "code",
   "execution_count": null,
   "id": "e8d6b81c",
   "metadata": {
    "colab": {
     "base_uri": "https://localhost:8080/",
     "height": 276
    },
    "executionInfo": {
     "elapsed": 565,
     "status": "ok",
     "timestamp": 1655729298479,
     "user": {
      "displayName": "Vikas HM",
      "userId": "18207387345907596827"
     },
     "user_tz": -330
    },
    "id": "e8d6b81c",
    "outputId": "8129c3f4-3105-4ae9-cc93-ecd0b3a34bd8"
   },
   "outputs": [],
   "source": [
    "df.groupby('size')['total_bill'].mean().plot(kind='bar')\n",
    "plt.show()"
   ]
  },
  {
   "cell_type": "markdown",
   "id": "566ae9fe",
   "metadata": {
    "id": "566ae9fe"
   },
   "source": [
    "### 13. Plot a horizontal boxplot to compare the bill amount based on gender"
   ]
  },
  {
   "cell_type": "code",
   "execution_count": null,
   "id": "538a9f26",
   "metadata": {
    "colab": {
     "base_uri": "https://localhost:8080/",
     "height": 280
    },
    "executionInfo": {
     "elapsed": 513,
     "status": "ok",
     "timestamp": 1655729304931,
     "user": {
      "displayName": "Vikas HM",
      "userId": "18207387345907596827"
     },
     "user_tz": -330
    },
    "id": "538a9f26",
    "outputId": "e055051f-4ebc-4065-db7b-6a8cb317a633"
   },
   "outputs": [],
   "source": [
    "sns.boxplot(x='total_bill',y='sex',data=df)\n",
    "plt.show()"
   ]
  },
  {
   "cell_type": "markdown",
   "id": "5bc13310",
   "metadata": {
    "id": "5bc13310"
   },
   "source": [
    "### 14. Find the maximum bill amount for lunch and dinner on Saturday and Sunday"
   ]
  },
  {
   "cell_type": "code",
   "execution_count": null,
   "id": "edd2dde0",
   "metadata": {
    "colab": {
     "base_uri": "https://localhost:8080/"
    },
    "executionInfo": {
     "elapsed": 615,
     "status": "ok",
     "timestamp": 1655729310972,
     "user": {
      "displayName": "Vikas HM",
      "userId": "18207387345907596827"
     },
     "user_tz": -330
    },
    "id": "edd2dde0",
    "outputId": "d18dcf3a-e3c8-4c5f-fee7-65ef02921ede"
   },
   "outputs": [],
   "source": [
    "df.groupby(['time','day'])['total_bill'].max()"
   ]
  },
  {
   "cell_type": "markdown",
   "id": "aa484774",
   "metadata": {
    "id": "aa484774"
   },
   "source": [
    "### 15. Compute the percentage of missing values in the dataset."
   ]
  },
  {
   "cell_type": "code",
   "execution_count": null,
   "id": "303d4234",
   "metadata": {
    "colab": {
     "base_uri": "https://localhost:8080/"
    },
    "executionInfo": {
     "elapsed": 472,
     "status": "ok",
     "timestamp": 1655729316868,
     "user": {
      "displayName": "Vikas HM",
      "userId": "18207387345907596827"
     },
     "user_tz": -330
    },
    "id": "303d4234",
    "outputId": "2a9bd0e3-998b-4ffa-b48d-9e93eb7bda23"
   },
   "outputs": [],
   "source": [
    "df.isnull().sum()/len(df)*100"
   ]
  },
  {
   "cell_type": "markdown",
   "id": "abfaf333",
   "metadata": {
    "id": "abfaf333"
   },
   "source": [
    "### 16. Is there are any duplicate records in the dataset? If yes compute the count of the duplicate records and drop them."
   ]
  },
  {
   "cell_type": "code",
   "execution_count": null,
   "id": "0d008b67",
   "metadata": {
    "colab": {
     "base_uri": "https://localhost:8080/"
    },
    "executionInfo": {
     "elapsed": 514,
     "status": "ok",
     "timestamp": 1655729322030,
     "user": {
      "displayName": "Vikas HM",
      "userId": "18207387345907596827"
     },
     "user_tz": -330
    },
    "id": "0d008b67",
    "outputId": "b623c6d9-49d0-4869-9dee-51fd0d102598"
   },
   "outputs": [],
   "source": [
    "len(df[df.duplicated()])"
   ]
  },
  {
   "cell_type": "code",
   "execution_count": null,
   "id": "8c5ec81c",
   "metadata": {
    "id": "8c5ec81c"
   },
   "outputs": [],
   "source": [
    "## dropping duplicates.\n",
    "df.drop_duplicates(inplace=True)"
   ]
  },
  {
   "cell_type": "code",
   "execution_count": null,
   "id": "cc43d2ef",
   "metadata": {
    "colab": {
     "base_uri": "https://localhost:8080/"
    },
    "executionInfo": {
     "elapsed": 3,
     "status": "ok",
     "timestamp": 1655729324488,
     "user": {
      "displayName": "Vikas HM",
      "userId": "18207387345907596827"
     },
     "user_tz": -330
    },
    "id": "cc43d2ef",
    "outputId": "b97405a5-3619-4ac2-f875-149a45fb5e44"
   },
   "outputs": [],
   "source": [
    "## recheck\n",
    "len(df[df.duplicated()])"
   ]
  },
  {
   "cell_type": "markdown",
   "id": "4aa4a763",
   "metadata": {
    "id": "4aa4a763"
   },
   "source": [
    "### 17. Is there are any outliers present in the column 'total_bill'? If yes treat them with transformation approach, and plot a boxplot before and after the treatment"
   ]
  },
  {
   "cell_type": "code",
   "execution_count": null,
   "id": "2556de29",
   "metadata": {
    "colab": {
     "base_uri": "https://localhost:8080/",
     "height": 280
    },
    "executionInfo": {
     "elapsed": 528,
     "status": "ok",
     "timestamp": 1655729334695,
     "user": {
      "displayName": "Vikas HM",
      "userId": "18207387345907596827"
     },
     "user_tz": -330
    },
    "id": "2556de29",
    "outputId": "17a190af-f204-48f3-eda4-824ea5a73e99"
   },
   "outputs": [],
   "source": [
    "## boxplot before treatment\n",
    "sns.boxplot(df['total_bill'])\n",
    "plt.show()"
   ]
  },
  {
   "cell_type": "code",
   "execution_count": null,
   "id": "e8d7541f",
   "metadata": {
    "colab": {
     "base_uri": "https://localhost:8080/",
     "height": 280
    },
    "executionInfo": {
     "elapsed": 517,
     "status": "ok",
     "timestamp": 1655729341592,
     "user": {
      "displayName": "Vikas HM",
      "userId": "18207387345907596827"
     },
     "user_tz": -330
    },
    "id": "e8d7541f",
    "outputId": "eec7a419-6eb5-406e-a4c7-3e225cd03a02"
   },
   "outputs": [],
   "source": [
    "## treating outliers using log transformation\n",
    "df['total_bill_trans'] = np.log(df['total_bill'])\n",
    "\n",
    "## boxplot after transformation\n",
    "sns.boxplot(df['total_bill_trans'])\n",
    "plt.show()"
   ]
  },
  {
   "cell_type": "markdown",
   "id": "2e8bfa6f",
   "metadata": {
    "id": "2e8bfa6f"
   },
   "source": [
    "### 18. Is there are any outliers present in the column 'tip'? If yes remove them using IQR techinque."
   ]
  },
  {
   "cell_type": "code",
   "execution_count": null,
   "id": "35381171",
   "metadata": {
    "colab": {
     "base_uri": "https://localhost:8080/",
     "height": 279
    },
    "executionInfo": {
     "elapsed": 516,
     "status": "ok",
     "timestamp": 1655729355619,
     "user": {
      "displayName": "Vikas HM",
      "userId": "18207387345907596827"
     },
     "user_tz": -330
    },
    "id": "35381171",
    "outputId": "02d22190-3636-4611-e3b0-ea6feeca8152"
   },
   "outputs": [],
   "source": [
    "sns.boxplot(df['tip'])\n",
    "plt.show()"
   ]
  },
  {
   "cell_type": "code",
   "execution_count": null,
   "id": "33714108",
   "metadata": {
    "id": "33714108"
   },
   "outputs": [],
   "source": [
    "# Using IQR method\n",
    "Q1 = df['tip'].quantile(0.25)\n",
    "Q3 = df['tip'].quantile(0.75)\n",
    "IQR = Q3-Q1\n",
    "\n",
    "lower_whisker  = Q1-(1.5*IQR)\n",
    "upper_whisker  = Q3+(1.5*IQR)"
   ]
  },
  {
   "cell_type": "code",
   "execution_count": null,
   "id": "6c5184a8",
   "metadata": {
    "id": "6c5184a8"
   },
   "outputs": [],
   "source": [
    "df_out = df.loc[(df['tip'] < upper_whisker) & (df['tip'] > lower_whisker)] # rows without outliers"
   ]
  },
  {
   "cell_type": "code",
   "execution_count": null,
   "id": "ef72bd24",
   "metadata": {
    "colab": {
     "base_uri": "https://localhost:8080/",
     "height": 279
    },
    "executionInfo": {
     "elapsed": 8,
     "status": "ok",
     "timestamp": 1655729358488,
     "user": {
      "displayName": "Vikas HM",
      "userId": "18207387345907596827"
     },
     "user_tz": -330
    },
    "id": "ef72bd24",
    "outputId": "395ae1a5-7984-4832-8c83-856df8e604e8"
   },
   "outputs": [],
   "source": [
    "sns.boxplot(df_out['tip'])\n",
    "plt.show()"
   ]
  },
  {
   "cell_type": "markdown",
   "id": "10d91bd7",
   "metadata": {
    "id": "10d91bd7"
   },
   "source": [
    "### 19. Encode the categorical columns in the dataset and print the random 5 samples from the dataframe."
   ]
  },
  {
   "cell_type": "code",
   "execution_count": null,
   "id": "1f21a7b5",
   "metadata": {
    "colab": {
     "base_uri": "https://localhost:8080/",
     "height": 206
    },
    "executionInfo": {
     "elapsed": 594,
     "status": "ok",
     "timestamp": 1655729367293,
     "user": {
      "displayName": "Vikas HM",
      "userId": "18207387345907596827"
     },
     "user_tz": -330
    },
    "id": "1f21a7b5",
    "outputId": "4376b7d2-c774-4330-a7a9-b6947af8aa90"
   },
   "outputs": [],
   "source": [
    "df = pd.get_dummies(df,drop_first=True)\n",
    "df.sample(5)"
   ]
  },
  {
   "cell_type": "markdown",
   "id": "54ebc8e9",
   "metadata": {
    "id": "54ebc8e9"
   },
   "source": [
    "### 20. Check the range of the column 'total_bill' and transform the values such that the range will be 1."
   ]
  },
  {
   "cell_type": "code",
   "execution_count": null,
   "id": "5ea72c71",
   "metadata": {
    "colab": {
     "base_uri": "https://localhost:8080/"
    },
    "executionInfo": {
     "elapsed": 720,
     "status": "ok",
     "timestamp": 1655729378864,
     "user": {
      "displayName": "Vikas HM",
      "userId": "18207387345907596827"
     },
     "user_tz": -330
    },
    "id": "5ea72c71",
    "outputId": "47c7ab43-6e7d-4643-e6bf-f728fd4bce16"
   },
   "outputs": [],
   "source": [
    "tb_max = df['total_bill'].max()\n",
    "tb_min = df['total_bill'].min()\n",
    "range_ = tb_max-tb_min\n",
    "print(range_)"
   ]
  },
  {
   "cell_type": "code",
   "execution_count": null,
   "id": "3411bc12",
   "metadata": {
    "id": "3411bc12"
   },
   "outputs": [],
   "source": [
    "## initialize minmaxscalar\n",
    "mm = MinMaxScaler()"
   ]
  },
  {
   "cell_type": "code",
   "execution_count": null,
   "id": "f87acaa3",
   "metadata": {
    "id": "f87acaa3"
   },
   "outputs": [],
   "source": [
    "## Normalizing the values of the total_bill, so that the range will be 1.\n",
    "df['total_bill_mm'] = mm.fit_transform(df[['total_bill']])"
   ]
  },
  {
   "cell_type": "code",
   "execution_count": null,
   "id": "72676d8f",
   "metadata": {
    "colab": {
     "base_uri": "https://localhost:8080/"
    },
    "executionInfo": {
     "elapsed": 4,
     "status": "ok",
     "timestamp": 1655729384702,
     "user": {
      "displayName": "Vikas HM",
      "userId": "18207387345907596827"
     },
     "user_tz": -330
    },
    "id": "72676d8f",
    "outputId": "28de6468-ee7f-4a37-9542-91503a8bc79e"
   },
   "outputs": [],
   "source": [
    "## checking the range after normalization\n",
    "tb_mm_max = df['total_bill_mm'].max()\n",
    "tb_mm_min = df['total_bill_mm'].min()\n",
    "range_ = tb_mm_max-tb_mm_min\n",
    "print(range_)"
   ]
  },
  {
   "cell_type": "markdown",
   "id": "orY9jISSLQk4",
   "metadata": {
    "id": "orY9jISSLQk4"
   },
   "source": [
    "### 21. Load the dataset again by giving the name of the dataframe as \"tips_df\"\n",
    "- i) Encode the categorical variables.\n",
    "- ii) Store the target column (i.e.tip) in the y variable and the rest of the columns in the X variable"
   ]
  },
  {
   "cell_type": "code",
   "execution_count": null,
   "id": "-ebyzGNaLOa3",
   "metadata": {
    "colab": {
     "base_uri": "https://localhost:8080/",
     "height": 112
    },
    "executionInfo": {
     "elapsed": 406,
     "status": "ok",
     "timestamp": 1655791379836,
     "user": {
      "displayName": "Vikas HM",
      "userId": "18207387345907596827"
     },
     "user_tz": -330
    },
    "id": "-ebyzGNaLOa3",
    "outputId": "50848d88-e696-4499-8578-269ed5b28cef"
   },
   "outputs": [],
   "source": [
    "## Loading the dataset again as 'tips_df'\n",
    "tips_df = pd.read_csv('/content/drive/MyDrive/Datasets/tips.csv')\n",
    "tips_df.head(2) "
   ]
  },
  {
   "cell_type": "code",
   "execution_count": null,
   "id": "ydukXSwpL8vV",
   "metadata": {
    "colab": {
     "base_uri": "https://localhost:8080/",
     "height": 112
    },
    "executionInfo": {
     "elapsed": 4,
     "status": "ok",
     "timestamp": 1655791381263,
     "user": {
      "displayName": "Vikas HM",
      "userId": "18207387345907596827"
     },
     "user_tz": -330
    },
    "id": "ydukXSwpL8vV",
    "outputId": "09ac45aa-8f8b-472f-8707-2a8a366fc53f"
   },
   "outputs": [],
   "source": [
    "## Encoding categorical variables\n",
    "tips_df = pd.get_dummies(tips_df,drop_first=True)\n",
    "tips_df.head(2)"
   ]
  },
  {
   "cell_type": "code",
   "execution_count": null,
   "id": "y4Od9kFhKvVJ",
   "metadata": {
    "executionInfo": {
     "elapsed": 2,
     "status": "ok",
     "timestamp": 1655791381625,
     "user": {
      "displayName": "Vikas HM",
      "userId": "18207387345907596827"
     },
     "user_tz": -330
    },
    "id": "y4Od9kFhKvVJ"
   },
   "outputs": [],
   "source": [
    "## Storing the target column in Y variable and the rest of the columns in the X variable.\n",
    "X = tips_df.drop('tip',axis=1)\n",
    "y = tips_df['tip']"
   ]
  },
  {
   "cell_type": "markdown",
   "id": "xMIZeafUMq0F",
   "metadata": {
    "id": "xMIZeafUMq0F"
   },
   "source": [
    "### 22. Split the dataset into two parts (i.e. 70% train and 30% test), and Standardize the columns \"total_bill\" and \"Size\" using the mim_max scaling approach"
   ]
  },
  {
   "cell_type": "code",
   "execution_count": null,
   "id": "p4Vvwri6M-wh",
   "metadata": {
    "colab": {
     "base_uri": "https://localhost:8080/"
    },
    "executionInfo": {
     "elapsed": 3,
     "status": "ok",
     "timestamp": 1655791382250,
     "user": {
      "displayName": "Vikas HM",
      "userId": "18207387345907596827"
     },
     "user_tz": -330
    },
    "id": "p4Vvwri6M-wh",
    "outputId": "6d1bd377-f421-4546-aef4-6a65448fd3e4"
   },
   "outputs": [],
   "source": [
    "## Split the data\n",
    "X_train, X_test, y_train, y_test = train_test_split(X,y,test_size=0.30)\n",
    "print(X_train.shape,X_test.shape)\n",
    "print(y_train.shape,y_test.shape)\n",
    "\n",
    "## Scaling the data using min max scaling\n",
    "mm = MinMaxScaler()\n",
    "\n",
    "X_train.iloc[:,:2] = mm.fit_transform(X_train.iloc[:,:2])\n",
    "X_test.iloc[:,:2] = mm.transform(X_test.iloc[:,:2])"
   ]
  },
  {
   "cell_type": "markdown",
   "id": "i8RhAsBHONG7",
   "metadata": {
    "id": "i8RhAsBHONG7"
   },
   "source": [
    "### 23. Train a linear regression model using the training data and print the r_squared value of the prediction on the test data."
   ]
  },
  {
   "cell_type": "code",
   "execution_count": null,
   "id": "FgPbxkpOOpLT",
   "metadata": {
    "colab": {
     "base_uri": "https://localhost:8080/"
    },
    "executionInfo": {
     "elapsed": 2,
     "status": "ok",
     "timestamp": 1655791383620,
     "user": {
      "displayName": "Vikas HM",
      "userId": "18207387345907596827"
     },
     "user_tz": -330
    },
    "id": "FgPbxkpOOpLT",
    "outputId": "c852c160-dbbf-4424-daf2-e3e517a5f50e"
   },
   "outputs": [],
   "source": [
    "## Fitting a linear regression model on the train data\n",
    "lr = LinearRegression()\n",
    "lr.fit(X_train,y_train)"
   ]
  },
  {
   "cell_type": "code",
   "execution_count": null,
   "id": "MHbVi2T3PJX3",
   "metadata": {
    "executionInfo": {
     "elapsed": 2,
     "status": "ok",
     "timestamp": 1655791383971,
     "user": {
      "displayName": "Vikas HM",
      "userId": "18207387345907596827"
     },
     "user_tz": -330
    },
    "id": "MHbVi2T3PJX3"
   },
   "outputs": [],
   "source": [
    "## Making predictions on the test data\n",
    "pred = lr.predict(X_test)"
   ]
  },
  {
   "cell_type": "code",
   "execution_count": null,
   "id": "Oj_vS656PdHS",
   "metadata": {
    "colab": {
     "base_uri": "https://localhost:8080/"
    },
    "executionInfo": {
     "elapsed": 3,
     "status": "ok",
     "timestamp": 1655791384439,
     "user": {
      "displayName": "Vikas HM",
      "userId": "18207387345907596827"
     },
     "user_tz": -330
    },
    "id": "Oj_vS656PdHS",
    "outputId": "76ccf292-62a1-457b-c3fc-39dcb4047dc1"
   },
   "outputs": [],
   "source": [
    "## Computing r2_score\n",
    "print('r2-score test:', r2_score(y_test,pred))"
   ]
  },
  {
   "cell_type": "markdown",
   "id": "388b6163",
   "metadata": {
    "id": "388b6163"
   },
   "source": [
    "### Happy Learning:)"
   ]
  }
 ],
 "metadata": {
  "colab": {
   "collapsed_sections": [
    "9ead3dea",
    "42cd8e14",
    "41ef8841",
    "18894954",
    "984e3dbf",
    "6cd773f0",
    "d9c31198",
    "f01ba5cf",
    "0fe8fa86",
    "2469e9cc",
    "35e7f9bb",
    "1f8ba505",
    "873f97a5",
    "566ae9fe",
    "5bc13310",
    "aa484774",
    "abfaf333",
    "4aa4a763",
    "2e8bfa6f",
    "10d91bd7",
    "54ebc8e9"
   ],
   "name": "W3-W6 Lab Session (sample solution).ipynb",
   "provenance": []
  },
  "kernelspec": {
   "display_name": "Python 3 (ipykernel)",
   "language": "python",
   "name": "python3"
  },
  "language_info": {
   "codemirror_mode": {
    "name": "ipython",
    "version": 3
   },
   "file_extension": ".py",
   "mimetype": "text/x-python",
   "name": "python",
   "nbconvert_exporter": "python",
   "pygments_lexer": "ipython3",
   "version": "3.11.5"
  }
 },
 "nbformat": 4,
 "nbformat_minor": 5
}
